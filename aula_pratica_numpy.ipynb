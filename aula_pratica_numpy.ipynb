{
 "cells": [
  {
   "cell_type": "code",
   "execution_count": 4,
   "metadata": {},
   "outputs": [],
   "source": [
    "import numpy as np"
   ]
  },
  {
   "cell_type": "code",
   "execution_count": 5,
   "metadata": {},
   "outputs": [
    {
     "name": "stdout",
     "output_type": "stream",
     "text": [
      "[1. 3. 4.]\n",
      "[[0. 0. 0.]\n",
      " [0. 0. 0.]\n",
      " [0. 0. 0.]]\n"
     ]
    }
   ],
   "source": [
    "mt = np.array([1, 3, 4], dtype = np.float64)\n",
    "\n",
    "print(mt)\n",
    "vazio = np.zeros([3,3])\n",
    "print(vazio)"
   ]
  },
  {
   "cell_type": "code",
   "execution_count": 6,
   "metadata": {},
   "outputs": [
    {
     "name": "stdout",
     "output_type": "stream",
     "text": [
      "[[1. 1. 1. 1. 1.]\n",
      " [1. 1. 1. 1. 1.]\n",
      " [1. 1. 1. 1. 1.]\n",
      " [1. 1. 1. 1. 1.]]\n"
     ]
    }
   ],
   "source": [
    "um = np.ones([4, 5])\n",
    "print(um)"
   ]
  },
  {
   "cell_type": "code",
   "execution_count": 7,
   "metadata": {},
   "outputs": [
    {
     "name": "stdout",
     "output_type": "stream",
     "text": [
      "[[1. 0. 0. 0. 0.]\n",
      " [0. 1. 0. 0. 0.]\n",
      " [0. 0. 1. 0. 0.]\n",
      " [0. 0. 0. 1. 0.]\n",
      " [0. 0. 0. 0. 1.]]\n"
     ]
    }
   ],
   "source": [
    "diagonal = np.eye(5)\n",
    "print(diagonal)"
   ]
  },
  {
   "cell_type": "code",
   "execution_count": 8,
   "metadata": {},
   "outputs": [
    {
     "name": "stdout",
     "output_type": "stream",
     "text": [
      "[0.41812084 0.96778025 0.01042469 0.26798099 0.23245212]\n"
     ]
    }
   ],
   "source": [
    "ale = np.random.random((5))\n",
    "print(ale)"
   ]
  },
  {
   "cell_type": "code",
   "execution_count": 9,
   "metadata": {},
   "outputs": [
    {
     "name": "stdout",
     "output_type": "stream",
     "text": [
      "[-0.24428662  0.21585113 -0.0902327 ]\n"
     ]
    }
   ],
   "source": [
    "normal = np.random.randn((3))\n",
    "print(normal)"
   ]
  },
  {
   "cell_type": "code",
   "execution_count": 10,
   "metadata": {},
   "outputs": [
    {
     "name": "stdout",
     "output_type": "stream",
     "text": [
      "[[0.44461704 0.88068846 0.52937815 0.80857748]\n",
      " [0.37829364 0.61213273 0.25996471 0.85564951]\n",
      " [0.35916689 0.14283811 0.46021312 0.06558982]]\n"
     ]
    }
   ],
   "source": [
    "matrizrand = np.random.random([3,4])\n",
    "print(matrizrand)"
   ]
  },
  {
   "cell_type": "code",
   "execution_count": 11,
   "metadata": {},
   "outputs": [
    {
     "name": "stdout",
     "output_type": "stream",
     "text": [
      "[2 3]\n"
     ]
    }
   ],
   "source": [
    "matrizint = np.random.randint([3,4])\n",
    "print(matrizint)"
   ]
  },
  {
   "cell_type": "markdown",
   "metadata": {},
   "source": [
    "Geração com semente"
   ]
  },
  {
   "cell_type": "code",
   "execution_count": 23,
   "metadata": {},
   "outputs": [
    {
     "name": "stdout",
     "output_type": "stream",
     "text": [
      "[0.51182162 0.9504637 ]\n",
      "----------\n",
      "[[ 0  1  9 10  2  3  9  4]\n",
      " [ 3  9  2  4  7  6  0  0]\n",
      " [ 9  8  9  5  8  3  4  8]\n",
      " [ 1  3  1  4 10  1  4  4]\n",
      " [ 9  2  5  2  0  8  0  3]\n",
      " [ 5  5  1 10  8 10  1  7]\n",
      " [ 3  5 10  3  7  1  3 10]\n",
      " [ 4  5  3  1  4  6  5  8]]\n"
     ]
    }
   ],
   "source": [
    "gnr = np.random.default_rng(1)\n",
    "ale9 = gnr.random(2)\n",
    "\n",
    "print(ale9)\n",
    "\n",
    "print(10*\"-\")\n",
    "\n",
    "ale90 = gnr.integers(11, size=(8,8))\n",
    "print(ale90)"
   ]
  },
  {
   "cell_type": "code",
   "execution_count": 24,
   "metadata": {},
   "outputs": [
    {
     "name": "stdout",
     "output_type": "stream",
     "text": [
      "[ 0  1  2  3  4  5  6  7  8  9 10 77]\n"
     ]
    }
   ],
   "source": [
    "#UNIQUE\n",
    "j = np.array([1,2,3,4,5,6,7,7,7,77,7,8,8,9,2,3,0,10,10,10])\n",
    "j = np.unique(j)\n",
    "\n",
    "print(j)\n"
   ]
  },
  {
   "cell_type": "code",
   "execution_count": 27,
   "metadata": {},
   "outputs": [
    {
     "name": "stdout",
     "output_type": "stream",
     "text": [
      "[[1 2 3 4 5]\n",
      " [1 3 4 5 6]\n",
      " [1 3 4 5 6]]\n",
      "----------\n",
      "2\n",
      "----------\n",
      "(3, 5)\n"
     ]
    }
   ],
   "source": [
    "matriza = np.array([[1,2,3,4,5],[1,3,4,5,6],[1,3,4,5,6]])\n",
    "print(matriza)\n",
    "\n",
    "print(10*'-')\n",
    "\n",
    "print(matriza[0][1])\n",
    "\n",
    "print(10*'-')\n",
    "\n",
    "print(matriza.shape)"
   ]
  },
  {
   "cell_type": "markdown",
   "metadata": {},
   "source": [
    "Funções matematicas numa matriz"
   ]
  },
  {
   "cell_type": "code",
   "execution_count": 33,
   "metadata": {},
   "outputs": [
    {
     "name": "stdout",
     "output_type": "stream",
     "text": [
      "6\n",
      "----------\n",
      "1\n",
      "----------\n",
      "53\n",
      "----------\n",
      "3.533333333333333\n",
      "----------\n",
      "1.6679994670929073\n"
     ]
    }
   ],
   "source": [
    "print(matriza.max())\n",
    "print(10*'-')\n",
    "print(matriza.min())\n",
    "print(10*'-')\n",
    "print(matriza.sum())\n",
    "print(10*'-')\n",
    "print(matriza.mean())\n",
    "print(10*'-')\n",
    "print(matriza.std())"
   ]
  },
  {
   "cell_type": "markdown",
   "metadata": {},
   "source": [
    "raiz quadrada e exp"
   ]
  },
  {
   "cell_type": "code",
   "execution_count": 34,
   "metadata": {},
   "outputs": [
    {
     "name": "stdout",
     "output_type": "stream",
     "text": [
      "[[1.         1.41421356 1.73205081 2.         2.23606798]\n",
      " [1.         1.73205081 2.         2.23606798 2.44948974]\n",
      " [1.         1.73205081 2.         2.23606798 2.44948974]]\n",
      "----------\n",
      "[[  2.71828183   7.3890561   20.08553692  54.59815003 148.4131591 ]\n",
      " [  2.71828183  20.08553692  54.59815003 148.4131591  403.42879349]\n",
      " [  2.71828183  20.08553692  54.59815003 148.4131591  403.42879349]]\n"
     ]
    }
   ],
   "source": [
    "print(np.sqrt(matriza))\n",
    "print(10*'-')\n",
    "print(np.exp(matriza))"
   ]
  },
  {
   "cell_type": "markdown",
   "metadata": {},
   "source": [
    "Extração de dados"
   ]
  },
  {
   "cell_type": "code",
   "execution_count": 38,
   "metadata": {},
   "outputs": [
    {
     "name": "stdout",
     "output_type": "stream",
     "text": [
      "4\n",
      "----------\n",
      "[1 4]\n",
      "----------\n",
      "[ 4  5  6  7  8 10 11]\n",
      "----------\n",
      "[ 8 10 11]\n"
     ]
    }
   ],
   "source": [
    "array = np.array([1, 4, 5, 6, 7, 8, 10, 11])\n",
    "print(array[1])\n",
    "print(10*'-')\n",
    "print(array[0:2])\n",
    "print(10*'-')\n",
    "print(array[1:])\n",
    "print(10*'-')\n",
    "print(array[-3:])"
   ]
  }
 ],
 "metadata": {
  "kernelspec": {
   "display_name": "Python 3",
   "language": "python",
   "name": "python3"
  },
  "language_info": {
   "codemirror_mode": {
    "name": "ipython",
    "version": 3
   },
   "file_extension": ".py",
   "mimetype": "text/x-python",
   "name": "python",
   "nbconvert_exporter": "python",
   "pygments_lexer": "ipython3",
   "version": "3.10.12"
  }
 },
 "nbformat": 4,
 "nbformat_minor": 2
}
