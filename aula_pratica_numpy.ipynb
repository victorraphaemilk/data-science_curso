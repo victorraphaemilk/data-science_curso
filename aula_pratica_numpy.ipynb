{
 "cells": [
  {
   "cell_type": "code",
   "execution_count": 4,
   "metadata": {},
   "outputs": [],
   "source": [
    "import numpy as np"
   ]
  },
  {
   "cell_type": "code",
   "execution_count": 5,
   "metadata": {},
   "outputs": [
    {
     "name": "stdout",
     "output_type": "stream",
     "text": [
      "[1. 3. 4.]\n",
      "[[0. 0. 0.]\n",
      " [0. 0. 0.]\n",
      " [0. 0. 0.]]\n"
     ]
    }
   ],
   "source": [
    "mt = np.array([1, 3, 4], dtype = np.float64)\n",
    "\n",
    "print(mt)\n",
    "vazio = np.zeros([3,3])\n",
    "print(vazio)"
   ]
  },
  {
   "cell_type": "code",
   "execution_count": 6,
   "metadata": {},
   "outputs": [
    {
     "name": "stdout",
     "output_type": "stream",
     "text": [
      "[[1. 1. 1. 1. 1.]\n",
      " [1. 1. 1. 1. 1.]\n",
      " [1. 1. 1. 1. 1.]\n",
      " [1. 1. 1. 1. 1.]]\n"
     ]
    }
   ],
   "source": [
    "um = np.ones([4, 5])\n",
    "print(um)"
   ]
  },
  {
   "cell_type": "code",
   "execution_count": 7,
   "metadata": {},
   "outputs": [
    {
     "name": "stdout",
     "output_type": "stream",
     "text": [
      "[[1. 0. 0. 0. 0.]\n",
      " [0. 1. 0. 0. 0.]\n",
      " [0. 0. 1. 0. 0.]\n",
      " [0. 0. 0. 1. 0.]\n",
      " [0. 0. 0. 0. 1.]]\n"
     ]
    }
   ],
   "source": [
    "diagonal = np.eye(5)\n",
    "print(diagonal)"
   ]
  },
  {
   "cell_type": "code",
   "execution_count": 8,
   "metadata": {},
   "outputs": [
    {
     "name": "stdout",
     "output_type": "stream",
     "text": [
      "[0.44283006 0.08144699 0.65349353 0.83304453 0.41947558]\n"
     ]
    }
   ],
   "source": [
    "ale = np.random.random((5))\n",
    "print(ale)"
   ]
  },
  {
   "cell_type": "code",
   "execution_count": 9,
   "metadata": {},
   "outputs": [
    {
     "name": "stdout",
     "output_type": "stream",
     "text": [
      "[ 1.76362577 -0.14626989 -0.09348464]\n"
     ]
    }
   ],
   "source": [
    "normal = np.random.randn((3))\n",
    "print(normal)"
   ]
  },
  {
   "cell_type": "code",
   "execution_count": 10,
   "metadata": {},
   "outputs": [
    {
     "name": "stdout",
     "output_type": "stream",
     "text": [
      "[[0.57798229 0.07587623 0.1135791  0.3313314 ]\n",
      " [0.34856765 0.91346008 0.06632739 0.64908541]\n",
      " [0.30171823 0.78334578 0.80909317 0.75124304]]\n"
     ]
    }
   ],
   "source": [
    "matrizrand = np.random.random([3,4])\n",
    "print(matrizrand)"
   ]
  },
  {
   "cell_type": "code",
   "execution_count": 11,
   "metadata": {},
   "outputs": [
    {
     "name": "stdout",
     "output_type": "stream",
     "text": [
      "[0 0]\n"
     ]
    }
   ],
   "source": [
    "matrizint = np.random.randint([3,4])\n",
    "print(matrizint)"
   ]
  },
  {
   "cell_type": "markdown",
   "metadata": {},
   "source": [
    "Geração com semente"
   ]
  },
  {
   "cell_type": "code",
   "execution_count": 12,
   "metadata": {},
   "outputs": [
    {
     "name": "stdout",
     "output_type": "stream",
     "text": [
      "[0.51182162 0.9504637 ]\n",
      "----------\n",
      "[[ 0  1  9 10  2  3  9  4]\n",
      " [ 3  9  2  4  7  6  0  0]\n",
      " [ 9  8  9  5  8  3  4  8]\n",
      " [ 1  3  1  4 10  1  4  4]\n",
      " [ 9  2  5  2  0  8  0  3]\n",
      " [ 5  5  1 10  8 10  1  7]\n",
      " [ 3  5 10  3  7  1  3 10]\n",
      " [ 4  5  3  1  4  6  5  8]]\n"
     ]
    }
   ],
   "source": [
    "gnr = np.random.default_rng(1)\n",
    "ale9 = gnr.random(2)\n",
    "\n",
    "print(ale9)\n",
    "\n",
    "print(10*\"-\")\n",
    "\n",
    "ale90 = gnr.integers(11, size=(8,8))\n",
    "print(ale90)"
   ]
  },
  {
   "cell_type": "code",
   "execution_count": 13,
   "metadata": {},
   "outputs": [
    {
     "name": "stdout",
     "output_type": "stream",
     "text": [
      "[ 0  1  2  3  4  5  6  7  8  9 10 77]\n"
     ]
    }
   ],
   "source": [
    "#UNIQUE\n",
    "j = np.array([1,2,3,4,5,6,7,7,7,77,7,8,8,9,2,3,0,10,10,10])\n",
    "j = np.unique(j)\n",
    "\n",
    "print(j)\n"
   ]
  },
  {
   "cell_type": "code",
   "execution_count": 14,
   "metadata": {},
   "outputs": [
    {
     "name": "stdout",
     "output_type": "stream",
     "text": [
      "[[1 2 3 4 5]\n",
      " [1 3 4 5 6]\n",
      " [1 3 4 5 6]]\n",
      "----------\n",
      "2\n",
      "----------\n",
      "(3, 5)\n"
     ]
    }
   ],
   "source": [
    "matriza = np.array([[1,2,3,4,5],[1,3,4,5,6],[1,3,4,5,6]])\n",
    "print(matriza)\n",
    "\n",
    "print(10*'-')\n",
    "\n",
    "print(matriza[0][1])\n",
    "\n",
    "print(10*'-')\n",
    "\n",
    "print(matriza.shape)"
   ]
  },
  {
   "cell_type": "markdown",
   "metadata": {},
   "source": [
    "Funções matematicas numa matriz"
   ]
  },
  {
   "cell_type": "code",
   "execution_count": 15,
   "metadata": {},
   "outputs": [
    {
     "name": "stdout",
     "output_type": "stream",
     "text": [
      "6\n",
      "----------\n",
      "1\n",
      "----------\n",
      "53\n",
      "----------\n",
      "3.533333333333333\n",
      "----------\n",
      "1.6679994670929073\n"
     ]
    }
   ],
   "source": [
    "print(matriza.max())\n",
    "print(10*'-')\n",
    "print(matriza.min())\n",
    "print(10*'-')\n",
    "print(matriza.sum())\n",
    "print(10*'-')\n",
    "print(matriza.mean())\n",
    "print(10*'-')\n",
    "print(matriza.std())"
   ]
  },
  {
   "cell_type": "markdown",
   "metadata": {},
   "source": [
    "raiz quadrada e exp"
   ]
  },
  {
   "cell_type": "code",
   "execution_count": 16,
   "metadata": {},
   "outputs": [
    {
     "name": "stdout",
     "output_type": "stream",
     "text": [
      "[[1.         1.41421356 1.73205081 2.         2.23606798]\n",
      " [1.         1.73205081 2.         2.23606798 2.44948974]\n",
      " [1.         1.73205081 2.         2.23606798 2.44948974]]\n",
      "----------\n",
      "[[  2.71828183   7.3890561   20.08553692  54.59815003 148.4131591 ]\n",
      " [  2.71828183  20.08553692  54.59815003 148.4131591  403.42879349]\n",
      " [  2.71828183  20.08553692  54.59815003 148.4131591  403.42879349]]\n"
     ]
    }
   ],
   "source": [
    "print(np.sqrt(matriza))\n",
    "print(10*'-')\n",
    "print(np.exp(matriza))"
   ]
  },
  {
   "cell_type": "markdown",
   "metadata": {},
   "source": [
    "Extração de dados"
   ]
  },
  {
   "cell_type": "code",
   "execution_count": 17,
   "metadata": {},
   "outputs": [
    {
     "name": "stdout",
     "output_type": "stream",
     "text": [
      "4\n",
      "----------\n",
      "[1 4]\n",
      "----------\n",
      "[ 4  5  6  7  8 10 11]\n",
      "----------\n",
      "[ 8 10 11]\n"
     ]
    }
   ],
   "source": [
    "array = np.array([1, 4, 5, 6, 7, 8, 10, 11])\n",
    "print(array[1])\n",
    "print(10*'-')\n",
    "print(array[0:2])\n",
    "print(10*'-')\n",
    "print(array[1:])\n",
    "print(10*'-')\n",
    "print(array[-3:])"
   ]
  },
  {
   "cell_type": "code",
   "execution_count": 18,
   "metadata": {},
   "outputs": [
    {
     "name": "stdout",
     "output_type": "stream",
     "text": [
      "[[1 2 3]\n",
      " [4 5 6]\n",
      " [7 8 9]]\n"
     ]
    }
   ],
   "source": [
    "vetor = np.array([[1,2,3], [4,5,6], [7,8,9]])\n",
    "print(vetor)"
   ]
  },
  {
   "cell_type": "code",
   "execution_count": 24,
   "metadata": {},
   "outputs": [
    {
     "name": "stdout",
     "output_type": "stream",
     "text": [
      "[1 2 3]\n",
      "..........\n",
      "[4 5 6]\n",
      "..........\n",
      "[7 8 9]\n"
     ]
    }
   ],
   "source": [
    "primeiralinha = vetor [0, :]\n",
    "print(primeiralinha)\n",
    "print(10*\".\")\n",
    "segundalinha = vetor [1, :]\n",
    "print(segundalinha)\n",
    "print(10*\".\")\n",
    "terceiralinha = vetor[2, :]\n",
    "print(terceiralinha)"
   ]
  },
  {
   "cell_type": "code",
   "execution_count": 27,
   "metadata": {},
   "outputs": [
    {
     "name": "stdout",
     "output_type": "stream",
     "text": [
      "[1 4 7]\n",
      "..........\n",
      "[2 5 8]\n",
      "..........\n",
      "[3 6 9]\n"
     ]
    }
   ],
   "source": [
    "primeiracoluna = vetor[:, 0] \n",
    "print(primeiracoluna)\n",
    "print(10*\".\")\n",
    "segundacoluna = vetor[:, 1]\n",
    "print(segundacoluna)\n",
    "print(10*\".\")\n",
    "terceiracoluna = vetor[: , 2]\n",
    "print(terceiracoluna)"
   ]
  },
  {
   "cell_type": "markdown",
   "metadata": {},
   "source": [
    "adição e multiplicação de matrizes"
   ]
  },
  {
   "cell_type": "code",
   "execution_count": 31,
   "metadata": {},
   "outputs": [
    {
     "name": "stdout",
     "output_type": "stream",
     "text": [
      "[[ 6  8 10 12]\n",
      " [ 6  8 10 12]]\n",
      "..........\n",
      "[[ 5 12 21 32]\n",
      " [ 5 12 21 32]]\n",
      "..........\n",
      "[[1, 2, 3, 4], [1, 2, 3, 4, 5], [3, 4, 7]]\n",
      "..........\n"
     ]
    }
   ],
   "source": [
    "n = np.array([[1,2,3,4], [1,2,3,4]])\n",
    "p = np.array([[5,6,7,8],[5,6,7,8]])\n",
    "\n",
    "resultado = n+p\n",
    "print(resultado)\n",
    "print(10*\".\")\n",
    "\n",
    "resultado2 = n*p\n",
    "print(resultado2)\n",
    "print(10*\".\")\n",
    "\n",
    "q = [[1,2,3,4], [1,2,3,4,5]]\n",
    "t = [[3,4,7]]\n",
    "\n",
    "resultado3 = q+t\n",
    "\n",
    "print(resultado3)\n",
    "print(10*\".\")"
   ]
  },
  {
   "cell_type": "markdown",
   "metadata": {},
   "source": [
    "arranjo e transposição"
   ]
  },
  {
   "cell_type": "code",
   "execution_count": 37,
   "metadata": {},
   "outputs": [
    {
     "name": "stdout",
     "output_type": "stream",
     "text": [
      "[[ 0  1  2  3  4]\n",
      " [ 5  6  7  8  9]\n",
      " [10 11 12 13 14]]\n",
      "..........\n",
      "[[ 0  5 10]\n",
      " [ 1  6 11]\n",
      " [ 2  7 12]\n",
      " [ 3  8 13]\n",
      " [ 4  9 14]]\n"
     ]
    }
   ],
   "source": [
    "op = np.arange(15).reshape((3,5))\n",
    "print(op)\n",
    "\n",
    "print(10*\".\")\n",
    "\n",
    "opt = op.T\n",
    "\n",
    "print(opt)"
   ]
  },
  {
   "cell_type": "markdown",
   "metadata": {},
   "source": [
    "expressões logicas"
   ]
  },
  {
   "cell_type": "code",
   "execution_count": 42,
   "metadata": {},
   "outputs": [
    {
     "name": "stdout",
     "output_type": "stream",
     "text": [
      "[[ 0.93557623  0.54288805  0.20962007 -1.07588478]\n",
      " [-0.22312723  2.02979885 -0.74961518  1.98881822]\n",
      " [ 0.1262033  -0.06292946  1.10805155 -0.16442539]\n",
      " [ 0.28133698  0.18110129 -0.39683275 -0.15406998]]\n",
      "..........\n",
      "[[ True  True  True False]\n",
      " [False  True False  True]\n",
      " [ True False  True False]\n",
      " [ True  True False False]]\n",
      "..........\n",
      "[['sim' 'sim' 'sim' 'não']\n",
      " ['não' 'sim' 'não' 'sim']\n",
      " ['sim' 'não' 'sim' 'não']\n",
      " ['sim' 'sim' 'não' 'não']]\n"
     ]
    }
   ],
   "source": [
    "expl = np.random.randn(4,4)\n",
    "print(expl)\n",
    "print(10*\".\")\n",
    "x = expl > 0\n",
    "print(x)\n",
    "y = np.where(expl>0, \"sim\", \"não\")\n",
    "print(10*\".\")\n",
    "print(y)"
   ]
  }
 ],
 "metadata": {
  "kernelspec": {
   "display_name": "Python 3",
   "language": "python",
   "name": "python3"
  },
  "language_info": {
   "codemirror_mode": {
    "name": "ipython",
    "version": 3
   },
   "file_extension": ".py",
   "mimetype": "text/x-python",
   "name": "python",
   "nbconvert_exporter": "python",
   "pygments_lexer": "ipython3",
   "version": "3.10.12"
  }
 },
 "nbformat": 4,
 "nbformat_minor": 2
}
